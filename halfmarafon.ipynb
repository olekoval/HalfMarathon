{
 "cells": [
  {
   "cell_type": "code",
   "execution_count": 16,
   "id": "1878b3da",
   "metadata": {},
   "outputs": [],
   "source": [
    "import math"
   ]
  },
  {
   "cell_type": "code",
   "execution_count": 36,
   "id": "1ed1bb38",
   "metadata": {
    "scrolled": true
   },
   "outputs": [],
   "source": [
    "class Phase2:\n",
    "    \"\"\"\n",
    "    Расчитывает параметры тренировок по 2 фазе плана Джека Дениелса\n",
    "    'От 800 метров до марафона' второе издание\n",
    "    \"\"\"\n",
    "    def __init__(self, week_distance):\n",
    "        self.week_distance = week_distance # недельный километраж\n",
    "        self.easy_week_distance = week_distance * 0.25\n",
    "        self.repeats_week_distance = week_distance * 0.05\n",
    "        \n",
    "    def calculate_distance(self, time_long: int, pace_long: str) -> float:\n",
    "        \"\"\"\n",
    "        Расчитывает дистанцию длительной тренировки 25% от\n",
    "        недельного километража или дистанцмю по заплонированному времени.\n",
    "        Выводит меньшую дистанцию\n",
    "        \n",
    "        Параметры:\n",
    "        time_long: Время длительного забега по плану в минутах\n",
    "        \n",
    "        Возвращаемое значение:\n",
    "        float: Дистанцию на длительную тренировку\n",
    "        \"\"\"\n",
    "        # Разделяем темп на минуты и секунды\n",
    "        pace_minutes, pace_seconds = map(int, pace_long.split(':'))\n",
    "\n",
    "        # Переводим темп в секунды\n",
    "        pace_total_seconds = pace_minutes * 60 + pace_seconds\n",
    "\n",
    "        # Переводим общее время в секунды\n",
    "        total_time_seconds = time_long * 60\n",
    "\n",
    "        # Вычисляем расстояние в километрах\n",
    "        distance_km = total_time_seconds / pace_total_seconds\n",
    "        result_distance = round(min(distance_km, self.easy_week_distance), 2)\n",
    "\n",
    "        return result_distance\n",
    "    \n",
    "    def number_episodes(self, plan_repeats: list, number_training: int) -> int:\n",
    "        \"\"\"\n",
    "        Метод расчитывает количество серий повторов в Пв-темпе\n",
    "        \n",
    "        Параметры:\n",
    "        plan_repeats (list): Список повторов в тренировоке. Например [(200, 200), (200, 400)]\n",
    "        number_training (int): Номер К тренировки.\n",
    "\n",
    "        Возвращаемое значение:\n",
    "        int: Количество серий повторов в Пв-темпе.\n",
    "        \n",
    "        \"\"\"\n",
    "        wd = self.repeats_week_distance\n",
    "        if number_training == 1:\n",
    "            wd = wd * .75 # оставить 25% дистанции для второй тренировки\n",
    "            \n",
    "        total_repeats = sum(pair[0] for pair in plan_repeats) / 1000\n",
    "        nm = wd / total_repeats\n",
    "        nm = math.floor(nm) # округлить до целого в меньшую сторону\n",
    "        if number_training == 1:\n",
    "            self.repeats_week_distance = self.repeats_week_distance - total_repeats * nm\n",
    "        \n",
    "        return nm\n",
    "    \n"
   ]
  },
  {
   "cell_type": "code",
   "execution_count": 40,
   "id": "90998e0c",
   "metadata": {},
   "outputs": [
    {
     "name": "stdout",
     "output_type": "stream",
     "text": [
      "35\n",
      "8.75\n",
      "дистанция повторов 1.75\n",
      "8.75\n",
      "в первой тренировке количество серий - 1\n",
      "во второй - 4 \n"
     ]
    }
   ],
   "source": [
    "p2 = Phase2(35) \n",
    "print(p2.week_distance)\n",
    "print(p2.easy_week_distance)\n",
    "print(f\"дистанция повторов {p2.repeats_week_distance}\")\n",
    "dist = p2.calculate_distance(120, '7:00')\n",
    "print(dist)\n",
    "num_1 = p2.number_episodes([(200, 200), (200, 400), (400, 200)],1)\n",
    "num_2 = p2.number_episodes([(200, 200)],2)\n",
    "print(f\"в первой тренировке количество серий - {num_1}\\nво второй - {num_2} \")"
   ]
  },
  {
   "cell_type": "code",
   "execution_count": null,
   "id": "f7947c8a",
   "metadata": {},
   "outputs": [],
   "source": []
  }
 ],
 "metadata": {
  "kernelspec": {
   "display_name": "Python 3 (ipykernel)",
   "language": "python",
   "name": "python3"
  },
  "language_info": {
   "codemirror_mode": {
    "name": "ipython",
    "version": 3
   },
   "file_extension": ".py",
   "mimetype": "text/x-python",
   "name": "python",
   "nbconvert_exporter": "python",
   "pygments_lexer": "ipython3",
   "version": "3.10.11"
  }
 },
 "nbformat": 4,
 "nbformat_minor": 5
}
