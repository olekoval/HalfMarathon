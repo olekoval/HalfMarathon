{
 "cells": [
  {
   "cell_type": "code",
   "execution_count": 6,
   "id": "766d9c60",
   "metadata": {},
   "outputs": [],
   "source": [
    "def calculate_distance(total_long: int, pace_long: str) -> float:\n",
    "    \"\"\"\n",
    "    Возвращает расстояние которое пробегает бегун за заданное время - total\n",
    "    с заданным темпом - pace\n",
    "    total - время бега в минутах\n",
    "    pace - темп '7:05' мин/км\n",
    "    \"\"\"\n",
    "    # Разделяем темп на минуты и секунды\n",
    "    pace_minutes, pace_seconds = map(int, pace_long.split(':'))\n",
    "    \n",
    "    # Переводим темп в секунды\n",
    "    pace_total_seconds = pace_minutes * 60 + pace_seconds\n",
    "    \n",
    "    # Переводим общее время в секунды\n",
    "    total_time_seconds = total_long * 60\n",
    "    \n",
    "    # Вычисляем расстояние в километрах\n",
    "    distance_km = total_time_seconds / pace_total_seconds\n",
    "    \n",
    "    return round(distance_km, 2)"
   ]
  },
  {
   "cell_type": "code",
   "execution_count": 27,
   "id": "26bddfeb",
   "metadata": {},
   "outputs": [
    {
     "name": "stdout",
     "output_type": "stream",
     "text": [
      "16.0\n"
     ]
    }
   ],
   "source": [
    "all_distance = 64\n",
    "total_long = 120\n",
    "pace_long = '6:45'\n",
    "calculate_distance(total_long, pace_long)\n",
    "\n",
    "if calculate_distance(total_long, pace_long) > all_distance * 0.25:\n",
    "    result = all_distance * 0.25\n",
    "else:\n",
    "    result = calculate_distance(total_long, pace_long)\n",
    "    \n",
    "print(result)    "
   ]
  },
  {
   "cell_type": "code",
   "execution_count": 28,
   "id": "c330493c",
   "metadata": {},
   "outputs": [
    {
     "data": {
      "text/plain": [
       "17.78"
      ]
     },
     "execution_count": 28,
     "metadata": {},
     "output_type": "execute_result"
    }
   ],
   "source": [
    "calculate_distance(total_long, pace_long)"
   ]
  },
  {
   "cell_type": "code",
   "execution_count": 29,
   "id": "924e8529",
   "metadata": {},
   "outputs": [
    {
     "data": {
      "text/plain": [
       "16.0"
      ]
     },
     "execution_count": 29,
     "metadata": {},
     "output_type": "execute_result"
    }
   ],
   "source": [
    "all_distance * 0.25"
   ]
  },
  {
   "cell_type": "code",
   "execution_count": null,
   "id": "3edc9c12",
   "metadata": {},
   "outputs": [],
   "source": []
  }
 ],
 "metadata": {
  "kernelspec": {
   "display_name": "Python 3 (ipykernel)",
   "language": "python",
   "name": "python3"
  },
  "language_info": {
   "codemirror_mode": {
    "name": "ipython",
    "version": 3
   },
   "file_extension": ".py",
   "mimetype": "text/x-python",
   "name": "python",
   "nbconvert_exporter": "python",
   "pygments_lexer": "ipython3",
   "version": "3.10.11"
  }
 },
 "nbformat": 4,
 "nbformat_minor": 5
}
