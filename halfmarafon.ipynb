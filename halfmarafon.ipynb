{
 "cells": [
  {
   "cell_type": "code",
   "execution_count": 68,
   "id": "8921c398",
   "metadata": {},
   "outputs": [],
   "source": [
    "import math\n",
    "import openpyxl\n",
    "\n",
    "\n",
    "class Phase2:\n",
    "    \"\"\"\n",
    "    Расчитывает параметры тренировок по 2 фазе при подготовке \n",
    "    к полумарафону плана Джека Дениелса\n",
    "    'От 800 метров до марафона' второе издание \n",
    "    \"\"\"\n",
    "    def __init__(self, week_distance):\n",
    "        self.week_distance = week_distance # недельный километраж\n",
    "        self.easy_week_distance = week_distance * 0.25 # max дистанция длительной тренировки\n",
    "        self.repeats_week_distance = week_distance * 0.05 # max объем дистанций повторов в неделю\n",
    "        self.threshold_week_distance = week_distance * 0.1 # max объем дистанций в пороговом темпе в неделю\n",
    "        \n",
    "    def calculate_distance_long(self, time_long: int, pace_long: str) -> float:\n",
    "        \"\"\"\n",
    "        Расчитывает дистанцию длительной тренировки 25% от\n",
    "        недельного километража или дистанцмю по заплонированному времени.\n",
    "        Выводит меньшую дистанцию\n",
    "        \n",
    "        Параметры:\n",
    "        time_long: Время длительного забега по плану в минутах\n",
    "        pace_long: Темп мин/км. Например '6:45'\n",
    "        \n",
    "        Возвращаемое значение:\n",
    "        float: Дистанцию на длительную тренировку\n",
    "        \"\"\"\n",
    "        # Разделяем темп на минуты и секунды\n",
    "        pace_minutes, pace_seconds = map(int, pace_long.split(':'))\n",
    "\n",
    "        # Переводим темп в секунды\n",
    "        pace_total_seconds = pace_minutes * 60 + pace_seconds\n",
    "\n",
    "        # Переводим общее время в секунды\n",
    "        total_time_seconds = time_long * 60\n",
    "\n",
    "        # Вычисляем расстояние в километрах\n",
    "        distance_km = total_time_seconds / pace_total_seconds\n",
    "        result_distance = round(min(distance_km, self.easy_week_distance), 2)\n",
    "\n",
    "        return result_distance\n",
    "    \n",
    "    \n",
    "    def number_episodes__threshold(self, distance_interval: float) -> int:\n",
    "        \"\"\"\n",
    "        Метод расчитывает количество серий повторов в П-темпе\n",
    "        \n",
    "        Параметры:\n",
    "        distance_interval (float): дистанция интервала в км (1.6, 3.2)\n",
    "        \n",
    "        Возвращаемое значение:\n",
    "        int: Количество серий повторов в П-темпе.\n",
    "        \"\"\"\n",
    "        if self.threshold_week_distance > 6.4:\n",
    "            distance_threshold = 6.4\n",
    "        else:\n",
    "            distance_threshold = self.threshold_week_distance\n",
    "            \n",
    "        nm = distance_threshold / distance_interval\n",
    "        nm = math.floor(nm) # округлить до целого в меньшую сторону    \n",
    "            \n",
    "        return nm   \n",
    "         \n",
    "    \n",
    "    \n",
    "    def number_episodes_repeats(self, plan_repeats: tuple, number_training: int) -> tuple:\n",
    "        \"\"\"\n",
    "        Метод расчитывает количество серий повторов в Пв-темпе\n",
    "        \n",
    "        Параметры:\n",
    "        plan_repeats (tuple): Список повторов в тренировоке. Например ((200, 200), (200, 400))\n",
    "                             первый элемент в кортеже дистанция в метрах Пв, второй - трусца\n",
    "        number_training (int): Номер К тренировки.\n",
    "\n",
    "        Возвращаемое значение:\n",
    "        int: Количество серий повторов в Пв-темпе.\n",
    "        \n",
    "        \"\"\"\n",
    "        wd = self.repeats_week_distance\n",
    "        if number_training == 1:\n",
    "            wd = wd * .75 # оставить 25% дистанции для второй тренировки\n",
    "            \n",
    "        total_repeats = sum(pair[0] for pair in plan_repeats) / 1000\n",
    "        nm = wd / total_repeats\n",
    "        nm = math.floor(nm) # округлить до целого в меньшую сторону\n",
    "        if number_training == 1:\n",
    "            self.repeats_week_distance = self.repeats_week_distance - total_repeats * nm\n",
    "        \n",
    "        return (nm, total_repeats) \n",
    "    \n",
    "    "
   ]
  },
  {
   "cell_type": "code",
   "execution_count": 82,
   "id": "55c699bf",
   "metadata": {},
   "outputs": [],
   "source": [
    "all_km = 60\n",
    "pace_long = '6:45'\n",
    "threshold_long = 1.6\n",
    "repeats_1_plan = ((200, 200), (200, 400), (400, 200))\n",
    "repeats_2_plan = ((200, 200),)\n",
    "\n",
    "p2 = Phase2(all_km) \n",
    "dist_long = p2.calculate_distance_long(120, pace_long)\n",
    "dist_threshold = p2.number_episodes__threshold(threshold_long) * threshold_long\n",
    "\n",
    "# Первая тренировка в Пв темпе\n",
    "repeats_1 = p2.number_episodes_repeats(repeats_1_plan, 1)\n",
    "dist_repeats_1 = repeats_1[0] * repeats_1[1] * 2\n",
    "\n",
    "# Вторая тренировка в Пв темпе\n",
    "repeats_2 = p2.number_episodes_repeats(repeats_2_plan, 2)\n",
    "dist_repeats_2 = (repeats_2[0] * repeats_2[1]) + dist_threshold \n",
    "\n",
    "dist_easy = round((all_km - (dist_long + dist_repeats_1 + dist_repeats_2)) / 4, 1)\n",
    "\n",
    "distance = (dist_easy, dist_repeats_1, dist_easy, dist_easy, dist_repeats_2, dist_easy, dist_long)\n",
    "\n",
    "wb = openpyxl.open(\"plan_2phase.xlsx\")\n",
    "ws = wb.worksheets[0]\n",
    "name_day = ('Пн', 'Вт', 'Ср', 'Чт', 'Пт', 'Сб', 'Вс')\n",
    "# Заносим дни недели в первый столбец\n",
    "for i, day in enumerate(name_day, start=1):  # start=1, чтобы начать с первой строки\n",
    "    ws.cell(row=i, column=1, value=day)  # row=i, column=1 (первый столбец)\n",
    "\n",
    "for i, d in enumerate(distance, start=1): \n",
    "    ws.cell(row=i, column=2, value=d)    \n",
    "\n",
    "def plan_repeats(plan, repeats):    \n",
    "    td = \"\"\n",
    "    for i in plan:\n",
    "        td = td + str(i[0]) + \" Пв \" + str(i[1]) + \" трусцой \" + \" + \"    \n",
    "\n",
    "    return f\"{repeats[0]} * ({td[:-4]})\"    \n",
    "\n",
    "\n",
    "Monday = \"Л\"    \n",
    "Tuesday = plan_repeats(repeats_1_plan, repeats_1)\n",
    "Wednesday = \"Л\"\n",
    "Thursday = \"Л\"\n",
    "Friday = f\"{round(dist_threshold, 1)} + {plan_repeats(repeats_2_plan, repeats_2)}\"\n",
    "\n",
    "name_day = (Monday, Tuesday, Wednesday, Thursday, Friday)\n",
    "for i, w in enumerate(name_day, start=1): \n",
    "    ws.cell(row=i, column=3, value=w)    \n",
    "\n",
    "\n",
    "wb.save(\"plan_2phase.xlsx\")"
   ]
  },
  {
   "cell_type": "code",
   "execution_count": 75,
   "id": "4333921d",
   "metadata": {},
   "outputs": [
    {
     "data": {
      "text/plain": [
       "6.000000000000001"
      ]
     },
     "execution_count": 75,
     "metadata": {},
     "output_type": "execute_result"
    }
   ],
   "source": [
    "dist_repeats_2"
   ]
  },
  {
   "cell_type": "code",
   "execution_count": 76,
   "id": "7ce4edd2",
   "metadata": {},
   "outputs": [
    {
     "data": {
      "text/plain": [
       "(6, 0.2)"
      ]
     },
     "execution_count": 76,
     "metadata": {},
     "output_type": "execute_result"
    }
   ],
   "source": [
    "repeats_2"
   ]
  },
  {
   "cell_type": "code",
   "execution_count": 78,
   "id": "1ef520a5",
   "metadata": {},
   "outputs": [
    {
     "data": {
      "text/plain": [
       "(6, 0.2)"
      ]
     },
     "execution_count": 78,
     "metadata": {},
     "output_type": "execute_result"
    }
   ],
   "source": [
    "repeats_2"
   ]
  },
  {
   "cell_type": "code",
   "execution_count": 79,
   "id": "fd76ca63",
   "metadata": {},
   "outputs": [
    {
     "data": {
      "text/plain": [
       "'(200, 200) * (200 Пв 200 трусцой)'"
      ]
     },
     "execution_count": 79,
     "metadata": {},
     "output_type": "execute_result"
    }
   ],
   "source": [
    "plan_repeats(repeats_2_plan)"
   ]
  },
  {
   "cell_type": "code",
   "execution_count": 80,
   "id": "c329981b",
   "metadata": {},
   "outputs": [
    {
     "data": {
      "text/plain": [
       "((200, 200),)"
      ]
     },
     "execution_count": 80,
     "metadata": {},
     "output_type": "execute_result"
    }
   ],
   "source": [
    "repeats_2_plan"
   ]
  },
  {
   "cell_type": "code",
   "execution_count": null,
   "id": "50ae54d8",
   "metadata": {},
   "outputs": [],
   "source": []
  }
 ],
 "metadata": {
  "kernelspec": {
   "display_name": "Python 3 (ipykernel)",
   "language": "python",
   "name": "python3"
  },
  "language_info": {
   "codemirror_mode": {
    "name": "ipython",
    "version": 3
   },
   "file_extension": ".py",
   "mimetype": "text/x-python",
   "name": "python",
   "nbconvert_exporter": "python",
   "pygments_lexer": "ipython3",
   "version": "3.10.11"
  }
 },
 "nbformat": 4,
 "nbformat_minor": 5
}
